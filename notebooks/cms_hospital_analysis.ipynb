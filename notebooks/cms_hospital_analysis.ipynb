{
 "cells": [
  {
   "cell_type": "markdown",
   "id": "c424127d",
   "metadata": {},
   "source": [
    "# Hospital Quality Analysis\n",
    "\n",
    "This project explores hospital performance across the United States using data from the Centers for Medicare & Medicaid Services (CMS). The goal is to analyze how hospital ownership, type, and location relate to overall ratings and quality of care.\n"
   ]
  },
  {
   "cell_type": "code",
   "execution_count": 92,
   "id": "20bc8831",
   "metadata": {},
   "outputs": [
    {
     "name": "stdout",
     "output_type": "stream",
     "text": [
      "<class 'pandas.core.frame.DataFrame'>\n",
      "RangeIndex: 4812 entries, 0 to 4811\n",
      "Data columns (total 28 columns):\n",
      " #   Column                                                         Non-Null Count  Dtype \n",
      "---  ------                                                         --------------  ----- \n",
      " 0   Provider ID                                                    4812 non-null   int64 \n",
      " 1   Hospital Name                                                  4812 non-null   object\n",
      " 2   Address                                                        4812 non-null   object\n",
      " 3   City                                                           4812 non-null   object\n",
      " 4   State                                                          4812 non-null   object\n",
      " 5   ZIP Code                                                       4812 non-null   int64 \n",
      " 6   County Name                                                    4797 non-null   object\n",
      " 7   Phone Number                                                   4812 non-null   int64 \n",
      " 8   Hospital Type                                                  4812 non-null   object\n",
      " 9   Hospital Ownership                                             4812 non-null   object\n",
      " 10  Emergency Services                                             4812 non-null   object\n",
      " 11  Meets criteria for meaningful use of EHRs                      4669 non-null   object\n",
      " 12  Hospital overall rating                                        4812 non-null   object\n",
      " 13  Hospital overall rating footnote                               1398 non-null   object\n",
      " 14  Mortality national comparison                                  4812 non-null   object\n",
      " 15  Mortality national comparison footnote                         1352 non-null   object\n",
      " 16  Safety of care national comparison                             4812 non-null   object\n",
      " 17  Safety of care national comparison footnote                    2168 non-null   object\n",
      " 18  Readmission national comparison                                4812 non-null   object\n",
      " 19  Readmission national comparison footnote                       1017 non-null   object\n",
      " 20  Patient experience national comparison                         4812 non-null   object\n",
      " 21  Patient experience national comparison footnote                1369 non-null   object\n",
      " 22  Effectiveness of care national comparison                      4812 non-null   object\n",
      " 23  Effectiveness of care national comparison footnote             1202 non-null   object\n",
      " 24  Timeliness of care national comparison                         4812 non-null   object\n",
      " 25  Timeliness of care national comparison footnote                1266 non-null   object\n",
      " 26  Efficient use of medical imaging national comparison           4812 non-null   object\n",
      " 27  Efficient use of medical imaging national comparison footnote  2033 non-null   object\n",
      "dtypes: int64(3), object(25)\n",
      "memory usage: 1.0+ MB\n"
     ]
    }
   ],
   "source": [
    "# Import pandas for working with the dataset\n",
    "import pandas as pd\n",
    "\n",
    "# Load the hospital dataset\n",
    "# This file contains U.S. hospital information and performance ratings\n",
    "# The encoding 'latin1' is used to handle special characters in the dataset\n",
    "df = pd.read_csv('../Data/Hospital General Information.csv', encoding='latin1')\n",
    "\n",
    "# Display the first few rows\n",
    "df.head()\n",
    "\n",
    "df.info()\n",
    "\n"
   ]
  },
  {
   "cell_type": "markdown",
   "id": "4682a3dd",
   "metadata": {},
   "source": [
    "### Select revelvant columns "
   ]
  },
  {
   "cell_type": "code",
   "execution_count": 93,
   "id": "fc33e363",
   "metadata": {},
   "outputs": [],
   "source": [
    "# Trim the dataset to only relevant columns\n",
    "df = df[[\n",
    "    'Hospital Name',\n",
    "    'State',\n",
    "    'Hospital Type',\n",
    "    'Hospital Ownership',\n",
    "    'Emergency Services',\n",
    "    'Hospital overall rating',\n",
    "    'Readmission national comparison',\n",
    "    'Effectiveness of care national comparison',\n",
    "    'Timeliness of care national comparison',\n",
    "    'Patient experience national comparison'\n",
    "]]\n"
   ]
  },
  {
   "cell_type": "markdown",
   "id": "266ca682",
   "metadata": {},
   "source": [
    "### Remove Incomplete Ratings\n",
    "\n",
    "Rows with missing overall hospital ratings are removed since they cannot be used for comparison in the analysis.\n"
   ]
  },
  {
   "cell_type": "code",
   "execution_count": 94,
   "id": "7ce2109a",
   "metadata": {},
   "outputs": [],
   "source": [
    "# Remove rows with missing hospital overall ratings\n",
    "df = df[df['Hospital overall rating'].notna()]\n",
    " "
   ]
  },
  {
   "cell_type": "code",
   "execution_count": 95,
   "id": "8b2d93db",
   "metadata": {},
   "outputs": [],
   "source": [
    "# Convert overall rating to numeric in case it's stored as text\n",
    "df['Hospital overall rating'] = pd.to_numeric(df['Hospital overall rating'], errors='coerce')\n"
   ]
  },
  {
   "cell_type": "code",
   "execution_count": 96,
   "id": "89dc1cb6",
   "metadata": {},
   "outputs": [],
   "source": [
    "# Save the cleaned dataset\n",
    "df.to_csv('../Data/hospital_quality_dashboard.csv', index=False)"
   ]
  },
  {
   "cell_type": "code",
   "execution_count": 97,
   "id": "3ea848a7",
   "metadata": {},
   "outputs": [
    {
     "data": {
      "text/html": [
       "<div>\n",
       "<style scoped>\n",
       "    .dataframe tbody tr th:only-of-type {\n",
       "        vertical-align: middle;\n",
       "    }\n",
       "\n",
       "    .dataframe tbody tr th {\n",
       "        vertical-align: top;\n",
       "    }\n",
       "\n",
       "    .dataframe thead th {\n",
       "        text-align: right;\n",
       "    }\n",
       "</style>\n",
       "<table border=\"1\" class=\"dataframe\">\n",
       "  <thead>\n",
       "    <tr style=\"text-align: right;\">\n",
       "      <th></th>\n",
       "      <th>Hospital Name</th>\n",
       "      <th>State</th>\n",
       "      <th>Hospital Type</th>\n",
       "      <th>Hospital Ownership</th>\n",
       "      <th>Emergency Services</th>\n",
       "      <th>Hospital overall rating</th>\n",
       "      <th>Readmission national comparison</th>\n",
       "      <th>Effectiveness of care national comparison</th>\n",
       "      <th>Timeliness of care national comparison</th>\n",
       "      <th>Patient experience national comparison</th>\n",
       "    </tr>\n",
       "  </thead>\n",
       "  <tbody>\n",
       "    <tr>\n",
       "      <th>0</th>\n",
       "      <td>SOUTHEAST ALABAMA MEDICAL CENTER</td>\n",
       "      <td>AL</td>\n",
       "      <td>Acute Care Hospitals</td>\n",
       "      <td>Government - Hospital District or Authority</td>\n",
       "      <td>Yes</td>\n",
       "      <td>3.0</td>\n",
       "      <td>Same as the national average</td>\n",
       "      <td>Same as the national average</td>\n",
       "      <td>Same as the national average</td>\n",
       "      <td>Below the national average</td>\n",
       "    </tr>\n",
       "    <tr>\n",
       "      <th>1</th>\n",
       "      <td>MARSHALL MEDICAL CENTER SOUTH</td>\n",
       "      <td>AL</td>\n",
       "      <td>Acute Care Hospitals</td>\n",
       "      <td>Government - Hospital District or Authority</td>\n",
       "      <td>Yes</td>\n",
       "      <td>3.0</td>\n",
       "      <td>Above the national average</td>\n",
       "      <td>Same as the national average</td>\n",
       "      <td>Above the national average</td>\n",
       "      <td>Same as the national average</td>\n",
       "    </tr>\n",
       "    <tr>\n",
       "      <th>2</th>\n",
       "      <td>ELIZA COFFEE MEMORIAL HOSPITAL</td>\n",
       "      <td>AL</td>\n",
       "      <td>Acute Care Hospitals</td>\n",
       "      <td>Government - Hospital District or Authority</td>\n",
       "      <td>Yes</td>\n",
       "      <td>2.0</td>\n",
       "      <td>Same as the national average</td>\n",
       "      <td>Same as the national average</td>\n",
       "      <td>Above the national average</td>\n",
       "      <td>Below the national average</td>\n",
       "    </tr>\n",
       "    <tr>\n",
       "      <th>3</th>\n",
       "      <td>MIZELL MEMORIAL HOSPITAL</td>\n",
       "      <td>AL</td>\n",
       "      <td>Acute Care Hospitals</td>\n",
       "      <td>Voluntary non-profit - Private</td>\n",
       "      <td>Yes</td>\n",
       "      <td>2.0</td>\n",
       "      <td>Below the national average</td>\n",
       "      <td>Below the national average</td>\n",
       "      <td>Above the national average</td>\n",
       "      <td>Same as the national average</td>\n",
       "    </tr>\n",
       "    <tr>\n",
       "      <th>4</th>\n",
       "      <td>CRENSHAW COMMUNITY HOSPITAL</td>\n",
       "      <td>AL</td>\n",
       "      <td>Acute Care Hospitals</td>\n",
       "      <td>Proprietary</td>\n",
       "      <td>Yes</td>\n",
       "      <td>3.0</td>\n",
       "      <td>Same as the national average</td>\n",
       "      <td>Same as the national average</td>\n",
       "      <td>Above the national average</td>\n",
       "      <td>Not Available</td>\n",
       "    </tr>\n",
       "  </tbody>\n",
       "</table>\n",
       "</div>"
      ],
      "text/plain": [
       "                      Hospital Name State         Hospital Type  \\\n",
       "0  SOUTHEAST ALABAMA MEDICAL CENTER    AL  Acute Care Hospitals   \n",
       "1     MARSHALL MEDICAL CENTER SOUTH    AL  Acute Care Hospitals   \n",
       "2    ELIZA COFFEE MEMORIAL HOSPITAL    AL  Acute Care Hospitals   \n",
       "3          MIZELL MEMORIAL HOSPITAL    AL  Acute Care Hospitals   \n",
       "4       CRENSHAW COMMUNITY HOSPITAL    AL  Acute Care Hospitals   \n",
       "\n",
       "                            Hospital Ownership Emergency Services  \\\n",
       "0  Government - Hospital District or Authority                Yes   \n",
       "1  Government - Hospital District or Authority                Yes   \n",
       "2  Government - Hospital District or Authority                Yes   \n",
       "3               Voluntary non-profit - Private                Yes   \n",
       "4                                  Proprietary                Yes   \n",
       "\n",
       "   Hospital overall rating Readmission national comparison  \\\n",
       "0                      3.0    Same as the national average   \n",
       "1                      3.0      Above the national average   \n",
       "2                      2.0    Same as the national average   \n",
       "3                      2.0      Below the national average   \n",
       "4                      3.0    Same as the national average   \n",
       "\n",
       "  Effectiveness of care national comparison  \\\n",
       "0              Same as the national average   \n",
       "1              Same as the national average   \n",
       "2              Same as the national average   \n",
       "3                Below the national average   \n",
       "4              Same as the national average   \n",
       "\n",
       "  Timeliness of care national comparison  \\\n",
       "0           Same as the national average   \n",
       "1             Above the national average   \n",
       "2             Above the national average   \n",
       "3             Above the national average   \n",
       "4             Above the national average   \n",
       "\n",
       "  Patient experience national comparison  \n",
       "0             Below the national average  \n",
       "1           Same as the national average  \n",
       "2             Below the national average  \n",
       "3           Same as the national average  \n",
       "4                          Not Available  "
      ]
     },
     "execution_count": 97,
     "metadata": {},
     "output_type": "execute_result"
    }
   ],
   "source": [
    "# View the first few rows of the cleaned dataset\n",
    "df.head()\n"
   ]
  },
  {
   "cell_type": "markdown",
   "id": "dcc4d240",
   "metadata": {},
   "source": [
    "## Analyze Hospital Ownership\n",
    "\n",
    "We examine the number of hospitals by ownership type to understand how different ownership models are represented in the dataset. \n",
    "This can help reveal whether any ownership types are over- or under-represented in quality measures."
   ]
  },
  {
   "cell_type": "code",
   "execution_count": 98,
   "id": "bb2b7351",
   "metadata": {},
   "outputs": [
    {
     "data": {
      "text/plain": [
       "Hospital Ownership\n",
       "Voluntary non-profit - Private                 2052\n",
       "Proprietary                                     800\n",
       "Government - Hospital District or Authority     561\n",
       "Voluntary non-profit - Other                    462\n",
       "Government - Local                              407\n",
       "Voluntary non-profit - Church                   343\n",
       "Physician                                        68\n",
       "Government - State                               65\n",
       "Government - Federal                             45\n",
       "Tribal                                            9\n",
       "Name: count, dtype: int64"
      ]
     },
     "execution_count": 98,
     "metadata": {},
     "output_type": "execute_result"
    }
   ],
   "source": [
    "# Count the number of hospitals by ownership type\n",
    "df['Hospital Ownership'].value_counts()"
   ]
  },
  {
   "cell_type": "code",
   "execution_count": 99,
   "id": "fb5f2819",
   "metadata": {},
   "outputs": [
    {
     "data": {
      "text/plain": [
       "Hospital Ownership\n",
       "Physician                                      3.750000\n",
       "Voluntary non-profit - Church                  3.177994\n",
       "Voluntary non-profit - Other                   3.150134\n",
       "Voluntary non-profit - Private                 3.133956\n",
       "Government - Hospital District or Authority    3.017804\n",
       "Government - Local                             2.950617\n",
       "Government - Federal                           2.937500\n",
       "Proprietary                                    2.831442\n",
       "Government - State                             2.600000\n",
       "Tribal                                         2.500000\n",
       "Name: Hospital overall rating, dtype: float64"
      ]
     },
     "execution_count": 99,
     "metadata": {},
     "output_type": "execute_result"
    }
   ],
   "source": [
    "#Convert hospital rating to numeric (in case it's stored as text)\n",
    "df['Hospital overall rating'] = pd.to_numeric(df['Hospital overall rating'], errors='coerce')\n",
    "\n",
    "df.groupby('Hospital Ownership')['Hospital overall rating'].mean().sort_values(ascending=False)\n"
   ]
  },
  {
   "cell_type": "code",
   "execution_count": 100,
   "id": "e5bc464e",
   "metadata": {},
   "outputs": [
    {
     "data": {
      "text/html": [
       "<div>\n",
       "<style scoped>\n",
       "    .dataframe tbody tr th:only-of-type {\n",
       "        vertical-align: middle;\n",
       "    }\n",
       "\n",
       "    .dataframe tbody tr th {\n",
       "        vertical-align: top;\n",
       "    }\n",
       "\n",
       "    .dataframe thead th {\n",
       "        text-align: right;\n",
       "    }\n",
       "</style>\n",
       "<table border=\"1\" class=\"dataframe\">\n",
       "  <thead>\n",
       "    <tr style=\"text-align: right;\">\n",
       "      <th></th>\n",
       "      <th>count</th>\n",
       "      <th>mean</th>\n",
       "    </tr>\n",
       "    <tr>\n",
       "      <th>Hospital Ownership</th>\n",
       "      <th></th>\n",
       "      <th></th>\n",
       "    </tr>\n",
       "  </thead>\n",
       "  <tbody>\n",
       "    <tr>\n",
       "      <th>Physician</th>\n",
       "      <td>20</td>\n",
       "      <td>3.750000</td>\n",
       "    </tr>\n",
       "    <tr>\n",
       "      <th>Voluntary non-profit - Church</th>\n",
       "      <td>309</td>\n",
       "      <td>3.177994</td>\n",
       "    </tr>\n",
       "    <tr>\n",
       "      <th>Voluntary non-profit - Other</th>\n",
       "      <td>373</td>\n",
       "      <td>3.150134</td>\n",
       "    </tr>\n",
       "    <tr>\n",
       "      <th>Voluntary non-profit - Private</th>\n",
       "      <td>1605</td>\n",
       "      <td>3.133956</td>\n",
       "    </tr>\n",
       "    <tr>\n",
       "      <th>Government - Hospital District or Authority</th>\n",
       "      <td>337</td>\n",
       "      <td>3.017804</td>\n",
       "    </tr>\n",
       "    <tr>\n",
       "      <th>Government - Local</th>\n",
       "      <td>243</td>\n",
       "      <td>2.950617</td>\n",
       "    </tr>\n",
       "    <tr>\n",
       "      <th>Government - Federal</th>\n",
       "      <td>16</td>\n",
       "      <td>2.937500</td>\n",
       "    </tr>\n",
       "    <tr>\n",
       "      <th>Proprietary</th>\n",
       "      <td>617</td>\n",
       "      <td>2.831442</td>\n",
       "    </tr>\n",
       "    <tr>\n",
       "      <th>Government - State</th>\n",
       "      <td>45</td>\n",
       "      <td>2.600000</td>\n",
       "    </tr>\n",
       "    <tr>\n",
       "      <th>Tribal</th>\n",
       "      <td>2</td>\n",
       "      <td>2.500000</td>\n",
       "    </tr>\n",
       "  </tbody>\n",
       "</table>\n",
       "</div>"
      ],
      "text/plain": [
       "                                             count      mean\n",
       "Hospital Ownership                                          \n",
       "Physician                                       20  3.750000\n",
       "Voluntary non-profit - Church                  309  3.177994\n",
       "Voluntary non-profit - Other                   373  3.150134\n",
       "Voluntary non-profit - Private                1605  3.133956\n",
       "Government - Hospital District or Authority    337  3.017804\n",
       "Government - Local                             243  2.950617\n",
       "Government - Federal                            16  2.937500\n",
       "Proprietary                                    617  2.831442\n",
       "Government - State                              45  2.600000\n",
       "Tribal                                           2  2.500000"
      ]
     },
     "execution_count": 100,
     "metadata": {},
     "output_type": "execute_result"
    }
   ],
   "source": [
    "# Summary table of hospital counts and average ratings by ownership\n",
    "df.groupby('Hospital Ownership')['Hospital overall rating'].agg(['count', 'mean']).sort_values(by='mean', ascending=False)\n"
   ]
  },
  {
   "cell_type": "code",
   "execution_count": 101,
   "id": "c8418dda",
   "metadata": {},
   "outputs": [],
   "source": [
    "# Save the cleaned hospital data to CSV\n",
    "df.to_csv('../Data/hospital_quality_dashboard.csv', index=False)"
   ]
  },
  {
   "cell_type": "markdown",
   "id": "496f133e",
   "metadata": {},
   "source": [
    "## Summary and Next Steps\n",
    "\n",
    "This notebook prepared and cleaned a dataset of U.S. hospital quality data from CMS.\n",
    "The processed file was exported to CSV and used to create a Tableau dashboard that visualizes average hospital ratings by ownership, type, and state.\n",
    "\n",
    "Future expansions could include joining patient satisfaction data or analyzing cost-efficiency across hospital types.\n"
   ]
  }
 ],
 "metadata": {
  "kernelspec": {
   "display_name": "Python 3",
   "language": "python",
   "name": "python3"
  },
  "language_info": {
   "codemirror_mode": {
    "name": "ipython",
    "version": 3
   },
   "file_extension": ".py",
   "mimetype": "text/x-python",
   "name": "python",
   "nbconvert_exporter": "python",
   "pygments_lexer": "ipython3",
   "version": "3.12.5"
  }
 },
 "nbformat": 4,
 "nbformat_minor": 5
}
